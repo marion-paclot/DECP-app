{
 "cells": [
  {
   "cell_type": "code",
   "execution_count": 1,
   "metadata": {},
   "outputs": [],
   "source": [
    "# Chargement des fichiers de l'AIFE"
   ]
  },
  {
   "cell_type": "code",
   "execution_count": 14,
   "metadata": {},
   "outputs": [],
   "source": [
    "import glob, os\n",
    "import  urllib.request\n",
    "import json\n",
    "from pandas.io.json import json_normalize"
   ]
  },
  {
   "cell_type": "code",
   "execution_count": 18,
   "metadata": {},
   "outputs": [
    {
     "name": "stdout",
     "output_type": "stream",
     "text": [
      "C:\\Users\\Nous\\Desktop\\Marion\\Etalab\\DECP\\data\n"
     ]
    }
   ],
   "source": [
    "cwd = os.getcwd()\n",
    "print(cwd)"
   ]
  },
  {
   "cell_type": "code",
   "execution_count": 15,
   "metadata": {},
   "outputs": [],
   "source": [
    "# Fichiers déjà présents dans le répertoire\n",
    "#path = r\"C:\\Users\\Nous\\Desktop\\Marion\\Etalab\\DECP\\data\\\\\"\n",
    "path = r\"/srv/decp/data/\"\n",
    "\n",
    "os.chdir(path)\n",
    "files = []\n",
    "for file in glob.glob(\"*.xml\"):\n",
    "    files.append(file)"
   ]
  },
  {
   "cell_type": "code",
   "execution_count": 17,
   "metadata": {},
   "outputs": [],
   "source": [
    "url_aife = 'https://www.data.gouv.fr/api/1/datasets/aife-de-44785462100045/'\n",
    "reponse_json = urlopen(url_aife).read()\n",
    "donnees = json.loads(reponse_json)\n",
    "donnees_df = json_normalize(donnees['resources'])\n",
    "donnees_df = donnees_df[['title', 'url']]\n",
    "\n",
    "for index, row in donnees_df.iterrows():\n",
    "    if row['title'] in files :\n",
    "        continue\n",
    "    urllib.request.urlretrieve(row['url'], path + row['title'])  "
   ]
  },
  {
   "cell_type": "code",
   "execution_count": null,
   "metadata": {},
   "outputs": [],
   "source": []
  }
 ],
 "metadata": {
  "kernelspec": {
   "display_name": "Python 3",
   "language": "python",
   "name": "python3"
  },
  "language_info": {
   "codemirror_mode": {
    "name": "ipython",
    "version": 3
   },
   "file_extension": ".py",
   "mimetype": "text/x-python",
   "name": "python",
   "nbconvert_exporter": "python",
   "pygments_lexer": "ipython3",
   "version": "3.6.5"
  }
 },
 "nbformat": 4,
 "nbformat_minor": 2
}

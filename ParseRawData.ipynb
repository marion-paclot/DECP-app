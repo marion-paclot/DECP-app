{
 "cells": [
  {
   "cell_type": "markdown",
   "metadata": {},
   "source": [
    "# Traitement des xml pour leur mise en forme avant import dans la base psql"
   ]
  },
  {
   "cell_type": "code",
   "execution_count": 18,
   "metadata": {},
   "outputs": [],
   "source": [
    "import glob, os\n",
    "import xml.etree.ElementTree as etree\n",
    "import pandas as pd\n",
    "import csv\n",
    "import requests\n",
    "import datetime\n",
    "import time\n",
    "\n",
    "from sqlalchemy import create_engine\n",
    "pd.set_option('display.max_columns', 100)"
   ]
  },
  {
   "cell_type": "code",
   "execution_count": 19,
   "metadata": {},
   "outputs": [
    {
     "name": "stdout",
     "output_type": "stream",
     "text": [
      "Connexion à Postgresql ok\n"
     ]
    }
   ],
   "source": [
    "config = pd.read_csv('config.csv', header=None)\n",
    "id = config[0][0]\n",
    "pwd = config[0][1]\n",
    "host = config[0][2]\n",
    "engine = create_engine('postgresql://%s:%s@%s/decp'%(id, pwd, host))\n",
    "print(\"Connexion à Postgresql ok\")\n"
   ]
  },
  {
   "cell_type": "code",
   "execution_count": 20,
   "metadata": {},
   "outputs": [],
   "source": [
    "def remplacer(node):\n",
    "    if node is None : \n",
    "        return ''\n",
    "    try : \n",
    "        return node.text\n",
    "    except : \n",
    "        return ''"
   ]
  },
  {
   "cell_type": "code",
   "execution_count": 21,
   "metadata": {},
   "outputs": [],
   "source": [
    "def traiterContrat (contrat, typeContrat, nomFichierSource, numContrat) :\n",
    "    # Cas où l'id a été oublié\n",
    "    try : \n",
    "        idContrat = contrat.find('id')\n",
    "        idContrat = idContrat.text\n",
    "    except : # Création d'un id unique --> a retravailler\n",
    "        idContrat = nomFichierSource + '_' + str(numContrat)\n",
    "        \n",
    "    # Type de contrat\n",
    "    typeContrat = contrat.tag\n",
    "    if typeContrat == \"marche\" :\n",
    "        try :\n",
    "            uidContrat = idContrat + '_' + contrat.find('acheteur/id').text\n",
    "        except : \n",
    "            uidContrat = idContrat + '_' + 'acheteurManquant'\n",
    "    if typeContrat == \"contrat-concession\" :\n",
    "        try : \n",
    "            uidContrat = idContrat + '_' +  contrat.find('autoriteConcedante/id').text\n",
    "        except : \n",
    "            idContrat = idContrat + '_' + 'autoriteConcedanteManquante'\n",
    "    \n",
    "    #### Infos générales relatives au marché\n",
    "    infosG = {'idContrat' : idContrat, 'uidContrat' : uidContrat, 'typeContrat' : typeContrat}\n",
    "    infosG['nature'] = remplacer(contrat.find('nature'))\n",
    "    infosG['objet'] = remplacer(contrat.find('objet'))\n",
    "    infosG['codeCPV'] = remplacer(contrat.find('codeCPV'))\n",
    "    infosG['procedure'] = remplacer(contrat.find('procedure'))\n",
    "    infosG['lieuExecTypeCode'] = remplacer(contrat.find('lieuExecution/typeCode'))\n",
    "    infosG['lieuExecCode'] = remplacer(contrat.find('lieuExecution/code'))\n",
    "    infosG['lieuExecNom'] = remplacer(contrat.find('lieuExecution/nom'))\n",
    "    infosG['dureeMois'] = remplacer(contrat.find('dureeMois'))\n",
    "    infosG['dateNotification'] = remplacer(contrat.find('dateNotification'))[:10]\n",
    "    infosG['datePublicationDonnees'] = remplacer(contrat.find('datePublicationDonnees'))[:10]\n",
    "    infosG['montant'] = remplacer(contrat.find('montant'))\n",
    "    infosG['formePrix'] = remplacer(contrat.find('formePrix'))\n",
    "    \n",
    "    # Partie spécifique aux concessions\n",
    "    infosG['dateSignature'] = remplacer(contrat.find('dateSignature'))[:10]\n",
    "    infosG['dateDebutExecution'] = remplacer(contrat.find('dateDebutExecution'))[:10]\n",
    "    infosG['valeurGlobale'] = remplacer(contrat.find('valeurGlobale'))\n",
    "    infosG['montantSubventionPublique'] = remplacer(contrat.find('montantSubventionPublique'))\n",
    "    \n",
    "    #### Infos relatives à l'acheteur / autorité concédante\n",
    "    infosA = {'idContrat' : idContrat, 'uidContrat' : uidContrat}\n",
    "    if typeContrat == \"marche\" :\n",
    "        infosA['idAcheteur'] = remplacer(contrat.find('acheteur/id'))\n",
    "        infosA['nomAcheteur'] = remplacer(contrat.find('acheteur/nom'))\n",
    "    if typeContrat == \"contrat-concession\" :\n",
    "        infosA['idAcheteur'] = remplacer(contrat.find('autoriteConcedante/id'))\n",
    "        infosA['nomAcheteur'] = remplacer(contrat.find('autoriteConcedante/nom'))\n",
    "        \n",
    "    #### Infos relatives aux titulaires / Concessionnaires / En attendant de le faire en une fois\n",
    "    infosT = []\n",
    "    for titulaire in contrat.findall('titulaires/titulaire') :\n",
    "        infosTitulaire = {'idContrat' : idContrat, 'uidContrat' : uidContrat}\n",
    "        infosTitulaire['typeIdentifiant'] = remplacer(titulaire.find('typeIdentifiant'))\n",
    "        infosTitulaire['idTitulaire'] = remplacer(titulaire.find('id'))\n",
    "        infosTitulaire['denominationSocialeTitulaire'] = remplacer(titulaire.find('denominationSociale'))\n",
    "        infosT.append(infosTitulaire)\n",
    "    for titulaire in contrat.findall('concessionnaires/concessionnaire') : \n",
    "        infosTitulaire = {'idContrat' : idContrat, 'uidContrat' : uidContrat}\n",
    "        infosTitulaire['typeIdentifiant'] = remplacer(titulaire.find('typeIdentifiant'))\n",
    "        infosTitulaire['idTitulaire'] = remplacer(titulaire.find('id'))\n",
    "        infosTitulaire['denominationSocialeTitulaire'] = remplacer(titulaire.find('denominationSociale'))\n",
    "        infosT.append(infosTitulaire)\n",
    "                    \n",
    "    return({'infosG' : infosG, 'infosA' : infosA, 'infosT' : infosT})"
   ]
  },
  {
   "cell_type": "markdown",
   "metadata": {},
   "source": [
    "## Boucle sur les fichiers pour extraire les informations"
   ]
  },
  {
   "cell_type": "code",
   "execution_count": 22,
   "metadata": {},
   "outputs": [],
   "source": [
    "infosG_new = []\n",
    "infosA_new = []\n",
    "infosT_new = []"
   ]
  },
  {
   "cell_type": "code",
   "execution_count": 23,
   "metadata": {},
   "outputs": [
    {
     "name": "stdout",
     "output_type": "stream",
     "text": [
      "Traitement de : data\\decp.xml\n",
      "Il y a 59652 contrats\n",
      "1000\n",
      "2000\n",
      "3000\n",
      "4000\n",
      "5000\n",
      "6000\n",
      "7000\n",
      "8000\n",
      "9000\n",
      "10000\n",
      "11000\n",
      "12000\n",
      "13000\n",
      "14000\n",
      "15000\n",
      "16000\n",
      "17000\n",
      "18000\n",
      "18232\n",
      "Erreur sur un marché\n",
      "19000\n",
      "20000\n",
      "20591\n",
      "Erreur sur un marché\n",
      "21000\n",
      "22000\n",
      "23000\n",
      "24000\n",
      "25000\n",
      "26000\n",
      "27000\n",
      "28000\n",
      "29000\n",
      "30000\n",
      "31000\n",
      "32000\n",
      "33000\n",
      "34000\n",
      "35000\n",
      "36000\n",
      "37000\n",
      "37641\n",
      "Erreur sur un marché\n",
      "38000\n",
      "39000\n",
      "40000\n",
      "40948\n",
      "Erreur sur un marché\n",
      "41000\n",
      "42000\n",
      "43000\n",
      "44000\n",
      "45000\n",
      "46000\n",
      "47000\n",
      "48000\n",
      "49000\n",
      "50000\n",
      "51000\n",
      "52000\n",
      "53000\n",
      "54000\n",
      "55000\n",
      "56000\n",
      "57000\n",
      "58000\n",
      "59000\n"
     ]
    }
   ],
   "source": [
    "files = glob.glob(\"data/*.xml\")\n",
    "for file in files :\n",
    "    print(\"Traitement de : \" + file)\n",
    "    try : \n",
    "        tree = etree.parse(file)\n",
    "        root = tree.getroot()\n",
    "    except : \n",
    "        print(\"Problème avec le fichier : \" + file)\n",
    "        continue\n",
    "        \n",
    "    id_file = file\n",
    "    c = 0\n",
    "    print(\"Il y a %s contrats\"%len(root))\n",
    "\n",
    "    for contrat in root :\n",
    "        c = c+1\n",
    "        if c % 1000 == 0 : \n",
    "            print(c)\n",
    "        try : \n",
    "            informations = traiterContrat(contrat, contrat.tag, id_file, c)\n",
    "            #print(informations)\n",
    "            infosG_new.append(informations['infosG'])\n",
    "            infosA_new.append(informations['infosA'])\n",
    "            for element in informations['infosT'] : # Boucle car plusieurs titulaires possibles\n",
    "                infosT_new.append(element)\n",
    "        except : \n",
    "            print(c)\n",
    "            print(\"Erreur sur un marché\")"
   ]
  },
  {
   "cell_type": "code",
   "execution_count": 24,
   "metadata": {},
   "outputs": [
    {
     "name": "stdout",
     "output_type": "stream",
     "text": [
      "Passage en data frame\n"
     ]
    }
   ],
   "source": [
    "# Passage en tableau\n",
    "print(\"Passage en data frame\")\n",
    "infosG_new = pd.DataFrame(infosG_new)\n",
    "infosA_new = pd.DataFrame(infosA_new)\n",
    "infosT_new = pd.DataFrame(infosT_new)"
   ]
  },
  {
   "cell_type": "markdown",
   "metadata": {},
   "source": [
    "### Nettoyage des données "
   ]
  },
  {
   "cell_type": "code",
   "execution_count": 25,
   "metadata": {},
   "outputs": [
    {
     "name": "stdout",
     "output_type": "stream",
     "text": [
      "Début du nettoyage de données\n"
     ]
    }
   ],
   "source": [
    "print(\"Début du nettoyage de données\")"
   ]
  },
  {
   "cell_type": "markdown",
   "metadata": {},
   "source": [
    "**Nature de marché**"
   ]
  },
  {
   "cell_type": "code",
   "execution_count": 26,
   "metadata": {},
   "outputs": [
    {
     "name": "stdout",
     "output_type": "stream",
     "text": [
      "\t Nature de marché\n"
     ]
    }
   ],
   "source": [
    "print(\"\\t Nature de marché\")\n",
    "infosG_new.loc[infosG_new['nature'] == 'CONCESSION DE TRAVAUX',  'nature'] = 'Concession de travaux'\n",
    "infosG_new.loc[infosG_new['nature'] == 'CONCESSION DE SERVICE',  'nature'] = 'Concession de service'\n",
    "infosG_new.loc[infosG_new['nature'] == 'CONCESSION DE SERVICE PUBLIC',  'nature'] = 'Concession de service public'\n",
    "infosG_new.loc[infosG_new['nature'] == 'DELEGATION DE SERVICE PUBLIC',  'nature'] = 'Délégation de service public'\n",
    "infosG_new.loc[infosG_new['nature'] == 'MARCHE',  'nature'] = 'Marché'\n",
    "infosG_new.loc[infosG_new['nature'] == 'MARCHE DE PARTENARIAT',  'nature'] = 'Marché de partenariat'\n",
    "infosG_new.loc[infosG_new['nature'] == 'ACCORD-CADRE',  'nature'] = 'Accord-cadre'\n",
    "infosG_new.loc[infosG_new['nature'] == 'MARCHE SUBSEQUENT',  'nature'] = 'Marché subséquent'"
   ]
  },
  {
   "cell_type": "markdown",
   "metadata": {},
   "source": [
    "**Code CPV**"
   ]
  },
  {
   "cell_type": "code",
   "execution_count": 27,
   "metadata": {},
   "outputs": [
    {
     "name": "stdout",
     "output_type": "stream",
     "text": [
      "\t Code CPV\n"
     ]
    },
    {
     "data": {
      "text/html": [
       "<div>\n",
       "<style scoped>\n",
       "    .dataframe tbody tr th:only-of-type {\n",
       "        vertical-align: middle;\n",
       "    }\n",
       "\n",
       "    .dataframe tbody tr th {\n",
       "        vertical-align: top;\n",
       "    }\n",
       "\n",
       "    .dataframe thead th {\n",
       "        text-align: right;\n",
       "    }\n",
       "</style>\n",
       "<table border=\"1\" class=\"dataframe\">\n",
       "  <thead>\n",
       "    <tr style=\"text-align: right;\">\n",
       "      <th></th>\n",
       "      <th>codeCPV</th>\n",
       "      <th>nomCPV</th>\n",
       "    </tr>\n",
       "  </thead>\n",
       "  <tbody>\n",
       "    <tr>\n",
       "      <th>0</th>\n",
       "      <td>03000000</td>\n",
       "      <td>Produits agricoles, de l'élevage, de la pêche,...</td>\n",
       "    </tr>\n",
       "    <tr>\n",
       "      <th>1</th>\n",
       "      <td>03100000</td>\n",
       "      <td>Produits agricoles et produits de l'horticulture</td>\n",
       "    </tr>\n",
       "    <tr>\n",
       "      <th>2</th>\n",
       "      <td>03110000</td>\n",
       "      <td>Produits agricoles, produits de la culture mar...</td>\n",
       "    </tr>\n",
       "    <tr>\n",
       "      <th>3</th>\n",
       "      <td>03111000</td>\n",
       "      <td>Graines</td>\n",
       "    </tr>\n",
       "    <tr>\n",
       "      <th>4</th>\n",
       "      <td>03111100</td>\n",
       "      <td>Graines de soja</td>\n",
       "    </tr>\n",
       "  </tbody>\n",
       "</table>\n",
       "</div>"
      ],
      "text/plain": [
       "    codeCPV                                             nomCPV\n",
       "0  03000000  Produits agricoles, de l'élevage, de la pêche,...\n",
       "1  03100000   Produits agricoles et produits de l'horticulture\n",
       "2  03110000  Produits agricoles, produits de la culture mar...\n",
       "3  03111000                                            Graines\n",
       "4  03111100                                    Graines de soja"
      ]
     },
     "execution_count": 27,
     "metadata": {},
     "output_type": "execute_result"
    }
   ],
   "source": [
    "print(\"\\t Code CPV\")\n",
    "cpv = pd.read_csv('donneesComplementaires/genealogie_cpv.csv', sep = ';', encoding='latin-1')\n",
    "cpv = cpv[['CODE', 'FR']]\n",
    "cpv = cpv.rename(columns={'CODE': 'codeCPV', 'FR' : 'nomCPV'})\n",
    "cpv['codeCPV'] = cpv['codeCPV'].str.slice(0,8)\n",
    "cpv.head()"
   ]
  },
  {
   "cell_type": "code",
   "execution_count": 28,
   "metadata": {
    "scrolled": true
   },
   "outputs": [],
   "source": [
    "infosG_new['codeCPV'] = infosG_new['codeCPV'].str.slice(0,8)\n",
    "infosG_new = infosG_new.merge(cpv, on='codeCPV', how = \"left\")"
   ]
  },
  {
   "cell_type": "markdown",
   "metadata": {},
   "source": [
    "**Lieux d'exécution**"
   ]
  },
  {
   "cell_type": "code",
   "execution_count": 29,
   "metadata": {},
   "outputs": [
    {
     "name": "stdout",
     "output_type": "stream",
     "text": [
      "\t Lieu d'exécution\n"
     ]
    }
   ],
   "source": [
    "print(\"\\t Lieu d'exécution\")\n",
    "infosG_new['lieuExecCodeDep'] = infosG_new['lieuExecCode']\n",
    "infosG_new['lieuExecCodeDep'] = infosG_new['lieuExecCodeDep'].str.replace(\"FR([0-9]{5})\", r'\\1')\n",
    "\n",
    "# Des erreurs\n",
    "# Cas des communes qui sont renseignées en nom au lieu de code\n",
    "infoMauvaiseCase = infosG_new['lieuExecNom'].str.contains('[0-9]{5}') &  (infosG_new['lieuExecCode'].str.contains('[0-9]{5}') == False)\n",
    "infosG_new.loc[infoMauvaiseCase, 'lieuExecCodeDep'] = infosG_new['lieuExecNom']\n",
    "\n",
    "# Cas des gens qui n'ont pas du tout compris comment remplir\n",
    "loireAtlantique = infosG_new['lieuExecNom'].str.contains('TOUTES LES COMMUNES DE LOIRE-ATLANTIQUE')\n",
    "infosG_new.loc[loireAtlantique, 'lieuExecCodeDep'] = '44'\n",
    "infosG_new.loc[loireAtlantique, 'lieuExecTypeCode'] = 'Code département'\n",
    "\n",
    "pyrAtlantique = infosG_new['lieuExecNom'].str.contains('Département des Pyrénées-Atlantiques')\n",
    "infosG_new.loc[pyrAtlantique, 'lieuExecCodeDep'] = '64'\n",
    "infosG_new.loc[pyrAtlantique, 'lieuExecTypeCode'] = 'Code département'\n",
    "\n",
    "# Multiples erreurs sans nom\n",
    "infosG_new['lieuExecCodeDep'] = infosG_new['lieuExecCodeDep'].str.replace(\"^0([0-9]{2})$\", r'\\1')\n",
    "\n",
    "# Traitement du résidu\n",
    "infosG_new.loc[infosG_new['lieuExecCode'] == 'FRK26',  'lieuExecCodeDep'] = '21-58-71-89'\n",
    "infosG_new.loc[infosG_new['lieuExecNom'] == 'Champagne ardenne',  'lieuExecCodeDep'] = '08-10-51-52'\n",
    "infosG_new.loc[infosG_new['lieuExecCode'] == 'FRY40',  'lieuExecCodeDep'] = '974'\n",
    "infosG_new.loc[infosG_new['lieuExecCode'] == 'FR',  'lieuExecCodeDep'] = 'FRANCE'\n",
    "\n",
    "# Cas de la Corse\n",
    "corse2A = [v in ['201', '202'] for v in infosG_new['lieuExecCodeDep'].str.slice(0,3)]\n",
    "corse2B = [v in ['203', '204', '205', '206', '207'] for v in infosG_new['lieuExecCodeDep'].str.slice(0,3)]\n",
    "infosG_new.loc[corse2A, 'lieuExecCodeDep'] = '2A'\n",
    "infosG_new.loc[corse2B, 'lieuExecCodeDep'] = '2B'"
   ]
  },
  {
   "cell_type": "code",
   "execution_count": 30,
   "metadata": {},
   "outputs": [],
   "source": [
    "## Tout ce qui contient plus de 3 caractères (canton, arrondissement, commune)\n",
    "# Cas des dom\n",
    "dom = infosG_new['lieuExecCode'].str.contains('^97[0-9]{3}')\n",
    "infosG_new.loc[dom, 'lieuExecCodeDep'] = infosG_new['lieuExecCodeDep'].str.replace(\"97([0-9]{1})([0-9]*)\", r'97\\1')\n",
    "\n",
    "metro = infosG_new['lieuExecCode'].str.contains('^97[0-9]{3}') == False\n",
    "infosG_new.loc[metro,'lieuExecCodeDep'] = infosG_new['lieuExecCodeDep'].str.replace(\"^([0-9]{2})([0-9]*)$\", r'\\1')"
   ]
  },
  {
   "cell_type": "markdown",
   "metadata": {},
   "source": [
    "**Montant** -- retrait des virgules"
   ]
  },
  {
   "cell_type": "code",
   "execution_count": 31,
   "metadata": {},
   "outputs": [
    {
     "name": "stdout",
     "output_type": "stream",
     "text": [
      "\t Montant\n"
     ]
    }
   ],
   "source": [
    "print(\"\\t Montant\")\n",
    "infosG_new['montant'] = infosG_new['montant'].str.replace(\"^([0-9]*)(\\.[0-9]{2})([0-9]*)$\", r'\\1')"
   ]
  },
  {
   "cell_type": "code",
   "execution_count": 32,
   "metadata": {},
   "outputs": [
    {
     "name": "stdout",
     "output_type": "stream",
     "text": [
      "\t Cosmétique\n"
     ]
    }
   ],
   "source": [
    "print(\"\\t Cosmétique\")\n",
    "# Réagencement des colonnes\n",
    "infosG_new = infosG_new[['idContrat', 'uidContrat', 'typeContrat', 'nature', 'objet', \n",
    "                         'codeCPV', 'nomCPV', 'procedure', \n",
    "                         'lieuExecTypeCode', 'lieuExecCode', 'lieuExecNom', 'lieuExecCodeDep',\n",
    "                         'dureeMois', 'dateNotification', 'datePublicationDonnees', \n",
    "                         'montant', 'formePrix', 'dateSignature', 'dateDebutExecution', \n",
    "                         'valeurGlobale', 'montantSubventionPublique']]\n",
    "infosA_new = infosA_new[['idContrat', 'uidContrat', 'idAcheteur', 'nomAcheteur']]\n",
    "infosT_new = infosT_new[['idContrat', 'uidContrat', 'typeIdentifiant', 'idTitulaire', \n",
    "                         'denominationSocialeTitulaire']]"
   ]
  },
  {
   "cell_type": "code",
   "execution_count": 33,
   "metadata": {},
   "outputs": [],
   "source": [
    "infosG_new.to_csv('Contrats.csv', index=False, sep= '|', \n",
    "                  quoting=csv.QUOTE_NONNUMERIC, encoding='utf-8')\n",
    "infosA_new.to_csv('Acheteurs.csv', index=False, sep= '|', \n",
    "                  quoting=csv.QUOTE_NONNUMERIC, encoding='utf-8')\n",
    "infosT_new.to_csv('Titulaires.csv', index=False, sep= '|', \n",
    "                  quoting=csv.QUOTE_NONNUMERIC, encoding='utf-8')"
   ]
  },
  {
   "cell_type": "code",
   "execution_count": 34,
   "metadata": {},
   "outputs": [
    {
     "data": {
      "text/html": [
       "<div>\n",
       "<style scoped>\n",
       "    .dataframe tbody tr th:only-of-type {\n",
       "        vertical-align: middle;\n",
       "    }\n",
       "\n",
       "    .dataframe tbody tr th {\n",
       "        vertical-align: top;\n",
       "    }\n",
       "\n",
       "    .dataframe thead th {\n",
       "        text-align: right;\n",
       "    }\n",
       "</style>\n",
       "<table border=\"1\" class=\"dataframe\">\n",
       "  <thead>\n",
       "    <tr style=\"text-align: right;\">\n",
       "      <th></th>\n",
       "      <th>idContrat</th>\n",
       "      <th>uidContrat</th>\n",
       "      <th>typeIdentifiant</th>\n",
       "      <th>idTitulaire</th>\n",
       "      <th>denominationSocialeTitulaire</th>\n",
       "    </tr>\n",
       "  </thead>\n",
       "  <tbody>\n",
       "    <tr>\n",
       "      <th>0</th>\n",
       "      <td>data\\decp.xml_1</td>\n",
       "      <td>data\\decp.xml_1_24620036400080</td>\n",
       "      <td>SIRET</td>\n",
       "      <td>13002271800451</td>\n",
       "      <td>PORTS DE LILLE - CCI HDF</td>\n",
       "    </tr>\n",
       "    <tr>\n",
       "      <th>1</th>\n",
       "      <td>20183WC4e9_iEw00</td>\n",
       "      <td>20183WC4e9_iEw00_00000000000000</td>\n",
       "      <td>SIRET</td>\n",
       "      <td>38473368900044</td>\n",
       "      <td>sirsi</td>\n",
       "    </tr>\n",
       "    <tr>\n",
       "      <th>2</th>\n",
       "      <td>20184CMDlZYWaE00</td>\n",
       "      <td>20184CMDlZYWaE00_00000000000000</td>\n",
       "      <td>SIRET</td>\n",
       "      <td>82875377200015</td>\n",
       "      <td>KOIS</td>\n",
       "    </tr>\n",
       "    <tr>\n",
       "      <th>3</th>\n",
       "      <td>2018AFz6cQk3fp00</td>\n",
       "      <td>2018AFz6cQk3fp00_00000000000000</td>\n",
       "      <td>SIRET</td>\n",
       "      <td>38436218200030</td>\n",
       "      <td>Labrador</td>\n",
       "    </tr>\n",
       "    <tr>\n",
       "      <th>4</th>\n",
       "      <td>2018CbTqIfAozu00</td>\n",
       "      <td>2018CbTqIfAozu00_00000000000000</td>\n",
       "      <td>SIRET</td>\n",
       "      <td>51820625500011</td>\n",
       "      <td>Labrador Translations</td>\n",
       "    </tr>\n",
       "  </tbody>\n",
       "</table>\n",
       "</div>"
      ],
      "text/plain": [
       "          idContrat                       uidContrat typeIdentifiant  \\\n",
       "0   data\\decp.xml_1   data\\decp.xml_1_24620036400080           SIRET   \n",
       "1  20183WC4e9_iEw00  20183WC4e9_iEw00_00000000000000           SIRET   \n",
       "2  20184CMDlZYWaE00  20184CMDlZYWaE00_00000000000000           SIRET   \n",
       "3  2018AFz6cQk3fp00  2018AFz6cQk3fp00_00000000000000           SIRET   \n",
       "4  2018CbTqIfAozu00  2018CbTqIfAozu00_00000000000000           SIRET   \n",
       "\n",
       "      idTitulaire denominationSocialeTitulaire  \n",
       "0  13002271800451     PORTS DE LILLE - CCI HDF  \n",
       "1  38473368900044                        sirsi  \n",
       "2  82875377200015                        KOIS   \n",
       "3  38436218200030                     Labrador  \n",
       "4  51820625500011        Labrador Translations  "
      ]
     },
     "execution_count": 34,
     "metadata": {},
     "output_type": "execute_result"
    }
   ],
   "source": [
    "infosA_new.head()\n",
    "infosT_new.head()"
   ]
  },
  {
   "cell_type": "markdown",
   "metadata": {},
   "source": [
    "### Travail sur SIRENE pour homogénéiser les noms des acheteurs et titulaires\n",
    "Non utilisé pour le moment"
   ]
  },
  {
   "cell_type": "code",
   "execution_count": 35,
   "metadata": {},
   "outputs": [],
   "source": [
    "def infosSirene(listeSiren):\n",
    "    listeSiren = [\"'\" + x + \"'\" for x in listeSiren if str(x) != 'nan']\n",
    "    listeFormatee = \",\".join([str(siren) for siren in listeSiren])\n",
    "    infos = pd.read_sql(\"SELECT * FROM sirene WHERE siren IN ({ls})\".format(ls = listeFormatee), \n",
    "                        engine)\n",
    "    return(infos)"
   ]
  },
  {
   "cell_type": "markdown",
   "metadata": {},
   "source": [
    "### Acheteurs"
   ]
  },
  {
   "cell_type": "markdown",
   "metadata": {},
   "source": [
    "print(\"Traitement de SIRENE pour homogénéiser les noms d'acheteurs\")"
   ]
  },
  {
   "cell_type": "markdown",
   "metadata": {},
   "source": [
    "infosA_new['sirenAcheteur'] = infosA_new['idAcheteur'].str.slice(0, 9)\n",
    "acheteurSiren = infosSirene(infosA_new['sirenAcheteur'].unique())"
   ]
  },
  {
   "cell_type": "markdown",
   "metadata": {},
   "source": [
    "acheteurSiren = acheteurSiren[['siren', 'denominationunique']]\n",
    "infosA_new = infosA_new.merge(acheteurSiren, left_on='sirenAcheteur', right_on='siren', how = \"left\")\n",
    "infosA_new['denominationunique'].fillna(infosA_new['nomAcheteur'], inplace=True)\n",
    "infosA_new = infosA_new.rename(columns={'denominationunique': 'nomSirenAcheteur'})\n",
    "del infosA_new['siren']"
   ]
  },
  {
   "cell_type": "markdown",
   "metadata": {},
   "source": [
    "### Titulaires"
   ]
  },
  {
   "cell_type": "markdown",
   "metadata": {},
   "source": [
    "print(\"Traitement de SIRENE pour homogénéiser les noms des titulaires\")"
   ]
  },
  {
   "cell_type": "markdown",
   "metadata": {},
   "source": [
    "infosT_new['sirenTitulaire'] = infosT_new['idTitulaire'].str.slice(0,9)\n",
    "titulairesSiren = infosSirene(infosT_new['sirenTitulaire'].unique())"
   ]
  },
  {
   "cell_type": "markdown",
   "metadata": {},
   "source": [
    "titulairesSiren = titulairesSiren[['siren', 'denominationunique']]\n",
    "titulairesSiren['denominationunique'] = titulairesSiren['denominationunique'].str.replace(\"(.*)\\((.*)\\)\", r'\\1')\n",
    "infosT_new = infosT_new.merge(titulairesSiren, left_on='sirenTitulaire', right_on='siren', how = \"left\")"
   ]
  },
  {
   "cell_type": "markdown",
   "metadata": {},
   "source": [
    "infosT_new['denominationunique'].fillna(infosT_new['denominationSocialeTitulaire'], inplace=True)\n",
    "infosT_new = infosT_new.rename(columns={'denominationunique': 'nomSirenTitulaire'})\n",
    "del infosT_new['siren']"
   ]
  },
  {
   "cell_type": "code",
   "execution_count": null,
   "metadata": {},
   "outputs": [],
   "source": []
  }
 ],
 "metadata": {
  "kernelspec": {
   "display_name": "Python 3",
   "language": "python",
   "name": "python3"
  },
  "language_info": {
   "codemirror_mode": {
    "name": "ipython",
    "version": 3
   },
   "file_extension": ".py",
   "mimetype": "text/x-python",
   "name": "python",
   "nbconvert_exporter": "python",
   "pygments_lexer": "ipython3",
   "version": "3.6.5"
  }
 },
 "nbformat": 4,
 "nbformat_minor": 2
}

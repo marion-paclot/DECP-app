{
 "cells": [
  {
   "cell_type": "code",
   "execution_count": 133,
   "metadata": {},
   "outputs": [
    {
     "name": "stdout",
     "output_type": "stream",
     "text": [
      "C:\\Users\\Nous\\Desktop\\Marion\\Etalab\\DECP\\data\n"
     ]
    }
   ],
   "source": [
    "import glob, os\n",
    "import xml.etree.ElementTree as etree\n",
    "import pandas as pd\n",
    "import csv\n",
    "\n",
    "cwd = os.getcwd()\n",
    "print(cwd)"
   ]
  },
  {
   "cell_type": "code",
   "execution_count": 134,
   "metadata": {},
   "outputs": [],
   "source": [
    "def remplacer(node):\n",
    "    try : \n",
    "        return node.text\n",
    "    except : \n",
    "        return ''"
   ]
  },
  {
   "cell_type": "code",
   "execution_count": 135,
   "metadata": {},
   "outputs": [],
   "source": [
    "pathData = r\"C:\\Users\\Nous\\Desktop\\Marion\\Etalab\\DECP\\data\"\n",
    "pathSave = r\"C:\\Users\\Nous\\Desktop\\Marion\\Etalab\\DECP\""
   ]
  },
  {
   "cell_type": "code",
   "execution_count": 136,
   "metadata": {
    "scrolled": true
   },
   "outputs": [],
   "source": [
    "files = []\n",
    "\n",
    "os.chdir(pathData)\n",
    "for file in glob.glob(\"*.xml\"):\n",
    "    #print(file)\n",
    "    files.append(file)"
   ]
  },
  {
   "cell_type": "code",
   "execution_count": 137,
   "metadata": {},
   "outputs": [],
   "source": [
    "def traiterContrat (contrat, typeContrat, nomFichierSource, numContrat) :\n",
    "    \n",
    "    # Cas où l'id a été oublié\n",
    "    try : \n",
    "        idContrat = contrat.find('id')\n",
    "        idContrat = idContrat.text\n",
    "    except : # Création d'un id unique --> a retravailler\n",
    "        idContrat = nomFichierSource + '_' + str(numContrat)\n",
    "    \n",
    "    if typeContrat == \"marche\" :\n",
    "        uidContrat = idContrat + '_' + contrat.find('acheteur').find('id').text\n",
    "        \n",
    "    if typeContrat == \"contrat-concession\" :\n",
    "        uidContrat = idContrat + '_' +  contrat.find('autoriteConcedante').find('id').text\n",
    "\n",
    "    #### Infos générales relatives au marché\n",
    "    infosG = {'idContrat' : idContrat, 'uidContrat' : uidContrat, 'typeContrat' : typeContrat}\n",
    "    \n",
    "    infosG['nature'] = remplacer(contrat.find('nature'))\n",
    "    infosG['objet'] = remplacer(contrat.find('objet'))\n",
    "    infosG['codeCPV'] = remplacer(contrat.find('codeCPV'))\n",
    "    infosG['procedure'] = remplacer(contrat.find('procedure'))\n",
    "    infosG['lieuExecTypeCode'] = remplacer(contrat.find('lieuExecution').find('typeCode'))\n",
    "    infosG['lieuExecCode'] = remplacer(contrat.find('lieuExecution').find('code'))\n",
    "    infosG['lieuExecNom'] = remplacer(contrat.find('lieuExecution').find('nom'))\n",
    "    infosG['dureeMois'] = remplacer(contrat.find('dureeMois'))\n",
    "    infosG['dateNotification'] = remplacer(contrat.find('dateNotification'))[:10]\n",
    "    infosG['datePublicationDonnees'] = remplacer(contrat.find('datePublicationDonnees'))[:10]\n",
    "    infosG['montant'] = remplacer(contrat.find('montant'))\n",
    "    infosG['formePrix'] = remplacer(contrat.find('formePrix'))\n",
    "    \n",
    "    # Partie spécifique aux concessions\n",
    "    infosG['dateSignature'] = remplacer(contrat.find('dateSignature'))[:10]\n",
    "    infosG['dateDebutExecution'] = remplacer(contrat.find('dateDebutExecution'))[:10]\n",
    "    infosG['valeurGlobale'] = remplacer(contrat.find('valeurGlobale'))\n",
    "    infosG['montantSubventionPublique'] = remplacer(contrat.find('montantSubventionPublique'))\n",
    "    \n",
    "    #### Infos relatives à l'acheteur / autorité concédante\n",
    "    infosA = {'idContrat' : idContrat, 'uidContrat' : uidContrat}\n",
    "    \n",
    "    if typeContrat == \"marche\" :\n",
    "        infosA['idAcheteur'] = remplacer(contrat.find('acheteur').find('id'))\n",
    "        infosA['nomAcheteur'] = remplacer(contrat.find('acheteur').find('nom'))\n",
    "        \n",
    "    if typeContrat == \"concession\" :\n",
    "        infosA['idAcheteur'] = remplacer(contrat.find('autoriteConcedante').find('id'))\n",
    "        infosA['nomAcheteur'] = remplacer(contrat.find('autoriteConcedante').find('nom'))\n",
    "        \n",
    "    \n",
    "    #### Infos relatives aux titulaires / Concessionnaires / En attendant de le faire en une fois\n",
    "    infosT = []\n",
    "    for titulaire in contrat.findall('titulaires/titulaire') :\n",
    "        infosTitulaire = {'idContrat' : idContrat, 'uidContrat' : uidContrat}\n",
    "        infosTitulaire['typeIdentifiant'] = remplacer(titulaire.find('typeIdentifiant'))\n",
    "        infosTitulaire['idTitulaire'] = remplacer(titulaire.find('id'))\n",
    "        infosTitulaire['denominationSocialeTitulaire'] = remplacer(titulaire.find('denominationSociale'))\n",
    "        infosT.append(infosTitulaire)\n",
    "    for titulaire in contrat.findall('concessionnaires/concessionnaire') : \n",
    "        infosTitulaire = {'idContrat' : idContrat, 'uidContrat' : uidContrat}\n",
    "        infosTitulaire['typeIdentifiant'] = remplacer(titulaire.find('typeIdentifiant'))\n",
    "        infosTitulaire['idTitulaire'] = remplacer(titulaire.find('id'))\n",
    "        infosTitulaire['denominationSocialeTitulaire'] = remplacer(titulaire.find('denominationSociale'))\n",
    "        infosT.append(infosTitulaire)\n",
    "                    \n",
    "    return({'infosG' : infosG, 'infosA' : infosA, 'infosT' : infosT})\n"
   ]
  },
  {
   "cell_type": "code",
   "execution_count": 138,
   "metadata": {},
   "outputs": [],
   "source": [
    "infosG_new = []\n",
    "infosA_new = []\n",
    "infosT_new = []"
   ]
  },
  {
   "cell_type": "code",
   "execution_count": 139,
   "metadata": {},
   "outputs": [
    {
     "name": "stdout",
     "output_type": "stream",
     "text": [
      "Problème avec le fichier : DECP-21590663700016-2019-03-14-01.xml\n",
      "Problème avec le fichier : DECP-21670180500014-2019-03-14-01.xml\n",
      "Problème avec le fichier : DECP-21670180500287-2019-03-14-01.xml\n",
      "Problème avec le fichier : DECP-21690123100011-2019-03-14-01.xml\n",
      "Problème avec le fichier : DECP-21890025600015-2019-03-14-01.xml\n",
      "Problème avec le fichier : DECP-21920026800015-2019-03-14-01.xml\n",
      "Problème avec le fichier : DECP-24850056300031-2019-03-14-01.xml\n",
      "Problème avec le fichier : DECP-25590116700031-2019-03-14-01.xml\n",
      "Problème avec le fichier : DECP-26490044000019-2019-03-14-01.xml\n",
      "Problème avec le fichier : DECP-28590001500055-2019-03-14-01.xml\n"
     ]
    }
   ],
   "source": [
    "for file in files :\n",
    "    #print(\"Traitement de : \" + file)\n",
    "    try : \n",
    "        tree = etree.parse(path + '/' + file)\n",
    "        root = tree.getroot()\n",
    "    except : \n",
    "        print(\"Problème avec le fichier : \" + file)\n",
    "        continue\n",
    "        \n",
    "    id_file = file\n",
    "    c = 0\n",
    "    for contrat in root : \n",
    "        c = c+1\n",
    "        informations = traiterContrat(contrat, contrat.tag, id_file, c)\n",
    "        #print(informations)\n",
    "        infosG_new.append(informations['infosG'])\n",
    "        infosA_new.append(informations['infosA'])\n",
    "        for element in informations['infosT'] : # Boucle car plusieurs titulaires possibles\n",
    "            infosT_new.append(element)"
   ]
  },
  {
   "cell_type": "code",
   "execution_count": 140,
   "metadata": {},
   "outputs": [],
   "source": [
    "# Passage en tableau et réagencement des colonnes\n",
    "infosG_new = pd.DataFrame(infosG_new)\n",
    "infosG_new = infosG_new[['idContrat', 'uidContrat', 'typeContrat', 'nature', 'objet', 'codeCPV', 'procedure', \n",
    "                         'lieuExecTypeCode', 'lieuExecCode', 'lieuExecNom',\n",
    "                         'dureeMois', 'dateNotification', 'datePublicationDonnees', 'montant', 'formePrix', \n",
    "                         'dateSignature', 'dateDebutExecution', 'valeurGlobale', 'montantSubventionPublique']]\n",
    "\n",
    "infosA_new = pd.DataFrame(infosA_new)\n",
    "infosA_new = infosA_new[['idContrat', 'uidContrat', 'idAcheteur', 'nomAcheteur']]\n",
    "\n",
    "infosT_new = pd.DataFrame(infosT_new)\n",
    "infosT_new = infosT_new[['idContrat', 'uidContrat', 'typeIdentifiant', 'idTitulaire', 'denominationSocialeTitulaire']]"
   ]
  },
  {
   "cell_type": "code",
   "execution_count": 141,
   "metadata": {},
   "outputs": [
    {
     "data": {
      "text/html": [
       "<div>\n",
       "<style scoped>\n",
       "    .dataframe tbody tr th:only-of-type {\n",
       "        vertical-align: middle;\n",
       "    }\n",
       "\n",
       "    .dataframe tbody tr th {\n",
       "        vertical-align: top;\n",
       "    }\n",
       "\n",
       "    .dataframe thead th {\n",
       "        text-align: right;\n",
       "    }\n",
       "</style>\n",
       "<table border=\"1\" class=\"dataframe\">\n",
       "  <thead>\n",
       "    <tr style=\"text-align: right;\">\n",
       "      <th></th>\n",
       "      <th>idContrat</th>\n",
       "      <th>uidContrat</th>\n",
       "      <th>typeContrat</th>\n",
       "      <th>nature</th>\n",
       "      <th>objet</th>\n",
       "      <th>codeCPV</th>\n",
       "      <th>procedure</th>\n",
       "      <th>lieuExecTypeCode</th>\n",
       "      <th>lieuExecCode</th>\n",
       "      <th>lieuExecNom</th>\n",
       "      <th>dureeMois</th>\n",
       "      <th>dateNotification</th>\n",
       "      <th>datePublicationDonnees</th>\n",
       "      <th>montant</th>\n",
       "      <th>formePrix</th>\n",
       "      <th>dateSignature</th>\n",
       "      <th>dateDebutExecution</th>\n",
       "      <th>valeurGlobale</th>\n",
       "      <th>montantSubventionPublique</th>\n",
       "    </tr>\n",
       "  </thead>\n",
       "  <tbody>\n",
       "    <tr>\n",
       "      <th>0</th>\n",
       "      <td>201981MA0300</td>\n",
       "      <td>201981MA0300_13000056500015</td>\n",
       "      <td>marche</td>\n",
       "      <td>Accord-cadre</td>\n",
       "      <td>18MA03</td>\n",
       "      <td>31682000-0</td>\n",
       "      <td>Appel d'offres ouvert</td>\n",
       "      <td>Code commune</td>\n",
       "      <td>MDPH</td>\n",
       "      <td>Orvault - St Nazaire</td>\n",
       "      <td>12</td>\n",
       "      <td>2018-11-30</td>\n",
       "      <td>2019-04-05</td>\n",
       "      <td>200000.0000</td>\n",
       "      <td>Ferme</td>\n",
       "      <td></td>\n",
       "      <td></td>\n",
       "      <td></td>\n",
       "      <td></td>\n",
       "    </tr>\n",
       "    <tr>\n",
       "      <th>1</th>\n",
       "      <td>2019I1703000</td>\n",
       "      <td>2019I1703000_13001898900017</td>\n",
       "      <td>marche</td>\n",
       "      <td>Marché</td>\n",
       "      <td>MAINTENANCE DES INSTALLATIONS DE CHAUFFAGE / V...</td>\n",
       "      <td>50700000-2</td>\n",
       "      <td>Appel d'offres ouvert</td>\n",
       "      <td>Code commune</td>\n",
       "      <td>INO</td>\n",
       "      <td>Angers Le Mans Nantes Tours</td>\n",
       "      <td>38</td>\n",
       "      <td>2018-12-17</td>\n",
       "      <td>2019-03-19</td>\n",
       "      <td>153900.0000</td>\n",
       "      <td>Ferme</td>\n",
       "      <td></td>\n",
       "      <td></td>\n",
       "      <td></td>\n",
       "      <td></td>\n",
       "    </tr>\n",
       "  </tbody>\n",
       "</table>\n",
       "</div>"
      ],
      "text/plain": [
       "      idContrat                   uidContrat typeContrat        nature  \\\n",
       "0  201981MA0300  201981MA0300_13000056500015      marche  Accord-cadre   \n",
       "1  2019I1703000  2019I1703000_13001898900017      marche        Marché   \n",
       "\n",
       "                                               objet     codeCPV  \\\n",
       "0                                             18MA03  31682000-0   \n",
       "1  MAINTENANCE DES INSTALLATIONS DE CHAUFFAGE / V...  50700000-2   \n",
       "\n",
       "               procedure lieuExecTypeCode lieuExecCode  \\\n",
       "0  Appel d'offres ouvert     Code commune         MDPH   \n",
       "1  Appel d'offres ouvert     Code commune          INO   \n",
       "\n",
       "                   lieuExecNom dureeMois dateNotification  \\\n",
       "0         Orvault - St Nazaire        12       2018-11-30   \n",
       "1  Angers Le Mans Nantes Tours        38       2018-12-17   \n",
       "\n",
       "  datePublicationDonnees      montant formePrix dateSignature  \\\n",
       "0             2019-04-05  200000.0000     Ferme                 \n",
       "1             2019-03-19  153900.0000     Ferme                 \n",
       "\n",
       "  dateDebutExecution valeurGlobale montantSubventionPublique  \n",
       "0                                                             \n",
       "1                                                             "
      ]
     },
     "execution_count": 141,
     "metadata": {},
     "output_type": "execute_result"
    }
   ],
   "source": [
    "infosG_new.head(2)"
   ]
  },
  {
   "cell_type": "code",
   "execution_count": 142,
   "metadata": {},
   "outputs": [
    {
     "data": {
      "text/html": [
       "<div>\n",
       "<style scoped>\n",
       "    .dataframe tbody tr th:only-of-type {\n",
       "        vertical-align: middle;\n",
       "    }\n",
       "\n",
       "    .dataframe tbody tr th {\n",
       "        vertical-align: top;\n",
       "    }\n",
       "\n",
       "    .dataframe thead th {\n",
       "        text-align: right;\n",
       "    }\n",
       "</style>\n",
       "<table border=\"1\" class=\"dataframe\">\n",
       "  <thead>\n",
       "    <tr style=\"text-align: right;\">\n",
       "      <th></th>\n",
       "      <th>idContrat</th>\n",
       "      <th>uidContrat</th>\n",
       "      <th>idAcheteur</th>\n",
       "      <th>nomAcheteur</th>\n",
       "    </tr>\n",
       "  </thead>\n",
       "  <tbody>\n",
       "    <tr>\n",
       "      <th>0</th>\n",
       "      <td>201981MA0300</td>\n",
       "      <td>201981MA0300_13000056500015</td>\n",
       "      <td>13000056500015</td>\n",
       "      <td>MDPH</td>\n",
       "    </tr>\n",
       "    <tr>\n",
       "      <th>1</th>\n",
       "      <td>2019I1703000</td>\n",
       "      <td>2019I1703000_13001898900017</td>\n",
       "      <td>13001898900017</td>\n",
       "      <td>INOVALYS</td>\n",
       "    </tr>\n",
       "  </tbody>\n",
       "</table>\n",
       "</div>"
      ],
      "text/plain": [
       "      idContrat                   uidContrat      idAcheteur nomAcheteur\n",
       "0  201981MA0300  201981MA0300_13000056500015  13000056500015        MDPH\n",
       "1  2019I1703000  2019I1703000_13001898900017  13001898900017    INOVALYS"
      ]
     },
     "execution_count": 142,
     "metadata": {},
     "output_type": "execute_result"
    }
   ],
   "source": [
    "infosA_new.head(2)"
   ]
  },
  {
   "cell_type": "code",
   "execution_count": 143,
   "metadata": {},
   "outputs": [
    {
     "data": {
      "text/html": [
       "<div>\n",
       "<style scoped>\n",
       "    .dataframe tbody tr th:only-of-type {\n",
       "        vertical-align: middle;\n",
       "    }\n",
       "\n",
       "    .dataframe tbody tr th {\n",
       "        vertical-align: top;\n",
       "    }\n",
       "\n",
       "    .dataframe thead th {\n",
       "        text-align: right;\n",
       "    }\n",
       "</style>\n",
       "<table border=\"1\" class=\"dataframe\">\n",
       "  <thead>\n",
       "    <tr style=\"text-align: right;\">\n",
       "      <th></th>\n",
       "      <th>idContrat</th>\n",
       "      <th>uidContrat</th>\n",
       "      <th>typeIdentifiant</th>\n",
       "      <th>idTitulaire</th>\n",
       "      <th>denominationSocialeTitulaire</th>\n",
       "    </tr>\n",
       "  </thead>\n",
       "  <tbody>\n",
       "    <tr>\n",
       "      <th>0</th>\n",
       "      <td>201981MA0300</td>\n",
       "      <td>201981MA0300_13000056500015</td>\n",
       "      <td>SIRET</td>\n",
       "      <td>54210765113030</td>\n",
       "      <td>ENGIE</td>\n",
       "    </tr>\n",
       "    <tr>\n",
       "      <th>1</th>\n",
       "      <td>2019I1703000</td>\n",
       "      <td>2019I1703000_13001898900017</td>\n",
       "      <td>SIRET</td>\n",
       "      <td>85480074501125</td>\n",
       "      <td>AXIMA CONCEPT</td>\n",
       "    </tr>\n",
       "  </tbody>\n",
       "</table>\n",
       "</div>"
      ],
      "text/plain": [
       "      idContrat                   uidContrat typeIdentifiant     idTitulaire  \\\n",
       "0  201981MA0300  201981MA0300_13000056500015           SIRET  54210765113030   \n",
       "1  2019I1703000  2019I1703000_13001898900017           SIRET  85480074501125   \n",
       "\n",
       "  denominationSocialeTitulaire  \n",
       "0                        ENGIE  \n",
       "1                AXIMA CONCEPT  "
      ]
     },
     "execution_count": 143,
     "metadata": {},
     "output_type": "execute_result"
    }
   ],
   "source": [
    "infosT_new.head(2)"
   ]
  },
  {
   "cell_type": "code",
   "execution_count": 144,
   "metadata": {},
   "outputs": [],
   "source": [
    "infosG_new.to_csv(pathSave + '\\Contrats.csv', index=False, sep= '|', quoting=csv.QUOTE_NONNUMERIC)\n",
    "infosA_new.to_csv(pathSave + '\\Acheteurs.csv', index=False, sep= '|', quoting=csv.QUOTE_NONNUMERIC)\n",
    "infosT_new.to_csv(pathSave + '\\Titulaires.csv', index=False, sep= '|', quoting=csv.QUOTE_NONNUMERIC)"
   ]
  },
  {
   "cell_type": "code",
   "execution_count": null,
   "metadata": {},
   "outputs": [],
   "source": []
  }
 ],
 "metadata": {
  "kernelspec": {
   "display_name": "Python 3",
   "language": "python",
   "name": "python3"
  },
  "language_info": {
   "codemirror_mode": {
    "name": "ipython",
    "version": 3
   },
   "file_extension": ".py",
   "mimetype": "text/x-python",
   "name": "python",
   "nbconvert_exporter": "python",
   "pygments_lexer": "ipython3",
   "version": "3.6.5"
  }
 },
 "nbformat": 4,
 "nbformat_minor": 2
}
